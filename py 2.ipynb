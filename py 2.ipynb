{
 "cells": [
  {
   "cell_type": "code",
   "execution_count": 64,
   "metadata": {},
   "outputs": [
    {
     "name": "stdout",
     "output_type": "stream",
     "text": [
      "Saylani Mass It Training\n",
      "        Saylani Mass It Training\n",
      "Saylani Mass It Training\n",
      "        Saylani Mass It Training\n",
      "Saylani Mass It Training\n",
      "        Saylani Mass It Training\n",
      "Saylani Mass It Training\n",
      "        Saylani Mass It Training\n",
      "        Saylani Mass It Training\n",
      "Saylani Mass It Training\n",
      "        Saylani Mass It Training\n"
     ]
    }
   ],
   "source": [
    "name = [\"saylani mass it training\",\"        \"\"saylani mass it training\",\"saylani mass it training\",\"        \"\"saylani mass it training\",\"saylani mass it training\",\"        \"\"saylani mass it training\",\"saylani mass it training\",\"        \"\"saylani mass it training\",\"        \"\"saylani mass it training\",\"saylani mass it training\",\"        \"\"saylani mass it training\"]\n",
    "for i in name:\n",
    "    print(i.title())\n",
    "    "
   ]
  },
  {
   "cell_type": "code",
   "execution_count": 39,
   "metadata": {},
   "outputs": [
    {
     "name": "stdout",
     "output_type": "stream",
     "text": [
      "Saylani Mass It Training      Saylani Mass It Trainingsaylani Mass It Training      Saylani Mass It Trainingsaylani Mass It Training      Saylani Mass It Trainingsaylani Mass It Training      Saylani Mass It Training\n"
     ]
    }
   ],
   "source": [
    "name =[\"saylani Mass it training\"\"      \" \"saylani mass it training\"\n",
    "       \"saylani Mass it training\"\"      \" \"saylani mass it training\"\n",
    "       \"saylani Mass it training\"\"      \" \"saylani mass it training\"\n",
    "       \"saylani Mass it training\"\"      \" \"saylani mass it training\"]\n",
    "for i in name:\n",
    "    print(i.title())"
   ]
  },
  {
   "cell_type": "code",
   "execution_count": 41,
   "metadata": {},
   "outputs": [
    {
     "name": "stdout",
     "output_type": "stream",
     "text": [
      "            Sayalani Mass It Training                                Sayalani Mass It Training    Sayalani Mass It Training\n",
      "            Sayalani Mass It Training                                Sayalani Mass It Training    Sayalani Mass It Training\n",
      "            Sayalani Mass It Training                                Sayalani Mass It Training   Sayalani Mass It Training\n",
      "            Sayalani Mass It Training                                Sayalani Mass It Training    Sayalani Mass It Training\n",
      "            Sayalani Mass It Training                                Sayalani Mass It Training    Sayalani Mass It Training\n"
     ]
    }
   ],
   "source": [
    "name = [\"            \" \"sayalani mass it training\" \"                                \"      \n",
    "        \"sayalani mass it training\"\"    \" \"sayalani mass it training\",\n",
    "       \"            \" \"sayalani mass it training\" \"                                \"\n",
    "       \"sayalani mass it training\"\"    \" \"sayalani mass it training\",\n",
    "       \"            \" \"sayalani mass it training\" \"                                \"\n",
    "       \"sayalani mass it training\"\"   \" \"sayalani mass it training\",\n",
    "       \"            \" \"sayalani mass it training\" \"                                \"\n",
    "       \"sayalani mass iT training\"\"    \" \"sayalani mass iT training\",\n",
    "       \"            \" \"sayalani mass iT training\" \"                                \"\n",
    "       \"sayalani mass iT training\"\"    \" \"sayalani mass iT training\"]\n",
    "for i in name:\n",
    "    print(i.title())"
   ]
  },
  {
   "cell_type": "code",
   "execution_count": 5,
   "metadata": {},
   "outputs": [
    {
     "name": "stdout",
     "output_type": "stream",
     "text": [
      "Saylani Mass It Training\n",
      "        Saylani Mass It Training\n",
      "                Saylani Mass It Training\n",
      "                        Saylani Mass It Training\n",
      "                Saylani Mass It Training\n",
      "        Saylani Mass It Training\n",
      "Saylani Mass It Training\n"
     ]
    }
   ],
   "source": [
    "name = [\"saylani mass it training\",\"        \"\"saylani mass it training\",\"                \"\"saylani mass it training\",\"                        \"\"saylani mass it training\",\"                \"\"saylani mass it training\",\"        \"\"saylani mass it training\",\"saylani mass it training\"]\n",
    "for i in name:\n",
    "    print(i.title())"
   ]
  },
  {
   "cell_type": "code",
   "execution_count": null,
   "metadata": {},
   "outputs": [],
   "source": []
  }
 ],
 "metadata": {
  "kernelspec": {
   "display_name": "Python 3",
   "language": "python",
   "name": "python3"
  },
  "language_info": {
   "codemirror_mode": {
    "name": "ipython",
    "version": 3
   },
   "file_extension": ".py",
   "mimetype": "text/x-python",
   "name": "python",
   "nbconvert_exporter": "python",
   "pygments_lexer": "ipython3",
   "version": "3.7.6"
  }
 },
 "nbformat": 4,
 "nbformat_minor": 4
}
